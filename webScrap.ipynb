{
 "cells": [
  {
   "cell_type": "code",
   "execution_count": null,
   "id": "fitted-footwear",
   "metadata": {},
   "outputs": [],
   "source": [
    "import requests\n",
    "import urllib.request\n",
    "import time\n",
    "import os\n",
    "import random\n",
    "from selenium import webdriver\n",
    "from selenium.webdriver.common.keys import Keys\n",
    "from bs4 import BeautifulSoup\n",
    "from PIL import Image"
   ]
  },
  {
   "cell_type": "code",
   "execution_count": null,
   "id": "attractive-tournament",
   "metadata": {},
   "outputs": [],
   "source": [
    "#const values\n",
    "\n",
    "#chromedriver path\n",
    "chromrdriver = \"\"  \n",
    "\n",
    "# url\n",
    "url=\"\"\n",
    "\n",
    "#scroll webpage if want\n",
    "ScrollNumber = 10\n",
    "startInt=1\n",
    "endInt=1000\n",
    "interval=1000\n",
    "encoding = 'utf-8'\n",
    "\n",
    "local_html_file='localhtml.html'"
   ]
  },
  {
   "cell_type": "code",
   "execution_count": null,
   "id": "perfect-japan",
   "metadata": {},
   "outputs": [],
   "source": [
    "\n",
    "os.environ[\"webdriver.chrome.driver\"] = chromrdriver\n",
    "driver = webdriver.Chrome(chromrdriver)\n",
    "driver.get(url)\n",
    "\n",
    "try:\n",
    "    for i in range(1,ScrollNumber):\n",
    "        #driver.execute_script(\"window.scrollTo(0, document.body.scrollHeight);\")\n",
    "        driver.execute_script(\"window.scrollTo(\"+str(startInt)+\",\"+str(endInt)+ \")\")\n",
    "        startInt=startInt+endInt\n",
    "        endInt=endInt+interval\n",
    "        time.sleep(5)\n",
    "\n",
    "    file = open(local_html_file, 'w+', encoding=encoding)\n",
    "    file.write(driver.page_source)\n",
    "    file.close()\n",
    "except:\n",
    "    print('error')\n",
    "    file = open(local_html_file, 'w+', encoding=encoding)\n",
    "    file.write(driver.page_source)\n",
    "    file.close()\n",
    "    \n",
    "driver.close()"
   ]
  },
  {
   "cell_type": "code",
   "execution_count": null,
   "id": "analyzed-costs",
   "metadata": {},
   "outputs": [],
   "source": [
    "#response=requests.get(url)\n",
    "\n",
    "page = open(local_html_file,'r+',encoding=encoding)\n",
    "soup=BeautifulSoup(page.read(), \"html.parser\")\n",
    "#soup"
   ]
  },
  {
   "cell_type": "code",
   "execution_count": null,
   "id": "radical-regard",
   "metadata": {},
   "outputs": [],
   "source": [
    "for one_a_tag in soup.findAll('img'): #'img' tags are for links\n",
    "        link = one_a_tag['src']\n",
    "        #print(class_tag in one_a_tag)\n",
    "        try:\n",
    "                download_url = link\n",
    "                img=Image.open(requests.get(download_url, stream=True).raw)\n",
    "                #random image name\n",
    "                img_name='abcd'+str(random.randint(0,9999))+'.jpg'\n",
    "                print(img_name)\n",
    "                img.save('webScrap/img/'+img_name)\n",
    "        except Exception as e:\n",
    "              print(e)  \n",
    "        time.sleep(1)"
   ]
  }
 ],
 "metadata": {
  "kernelspec": {
   "display_name": "Python 3",
   "language": "python",
   "name": "python3"
  },
  "language_info": {
   "codemirror_mode": {
    "name": "ipython",
    "version": 3
   },
   "file_extension": ".py",
   "mimetype": "text/x-python",
   "name": "python",
   "nbconvert_exporter": "python",
   "pygments_lexer": "ipython3",
   "version": "3.8.8"
  }
 },
 "nbformat": 4,
 "nbformat_minor": 5
}
